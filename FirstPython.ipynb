{
 "cells": [
  {
   "cell_type": "code",
   "execution_count": 10,
   "metadata": {},
   "outputs": [
    {
     "data": {
      "text/plain": [
       "True"
      ]
     },
     "execution_count": 10,
     "metadata": {},
     "output_type": "execute_result"
    }
   ],
   "source": [
    "# Задача 1 (1)\n",
    "phrase_1 = \"Насколько проще было бы писать программы, если бы не заказчики\"\n",
    "phrase_2 = \"640Кб должно хватить для любых задач. Билл Гейтс (по легенде)\"\n",
    "len (phrase_1) > len (phrase_2)"
   ]
  },
  {
   "cell_type": "code",
   "execution_count": 11,
   "metadata": {
    "scrolled": true
   },
   "outputs": [
    {
     "data": {
      "text/plain": [
       "False"
      ]
     },
     "execution_count": 11,
     "metadata": {},
     "output_type": "execute_result"
    }
   ],
   "source": [
    "# Задача 1 (2)\n",
    "phrase_1 = \"Насколько проще было бы писать программы, если бы не заказчики\"\n",
    "phrase_2 = \"640Кб должно хватить для любых задач. Билл Гейтс (по легенде)\"\n",
    "len (phrase_1) < len (phrase_2)"
   ]
  },
  {
   "cell_type": "code",
   "execution_count": 13,
   "metadata": {},
   "outputs": [
    {
     "data": {
      "text/plain": [
       "False"
      ]
     },
     "execution_count": 13,
     "metadata": {},
     "output_type": "execute_result"
    }
   ],
   "source": [
    "# Задача 1 (3)\n",
    "phrase_1 = \"Насколько проще было бы писать программы, если бы не заказчики\"\n",
    "phrase_2 = \"640Кб должно хватить для любых задач. Билл Гейтс (по легенде)\"\n",
    "len (phrase_1) == len (phrase_2)"
   ]
  },
  {
   "cell_type": "code",
   "execution_count": 10,
   "metadata": {},
   "outputs": [
    {
     "name": "stdout",
     "output_type": "stream",
     "text": [
      "2020 - високосный год\n",
      "Конец программы\n"
     ]
    }
   ],
   "source": [
    "# Задача 2 (1)\n",
    "year = 2020\n",
    "if year % 4 != 0:\n",
    "    print (year, '- обычный год')\n",
    "elif year % 100 != 0:\n",
    "    print (year, '- високосный год')\n",
    "elif year % 400 == 0:\n",
    "        print (year, '- високосный год')\n",
    "elif year % 400 != 0:\n",
    "        print (year, '- обычный год')\n",
    "else: \n",
    "    print (year, '- обычный год')\n",
    "print ('Конец программы')"
   ]
  },
  {
   "cell_type": "code",
   "execution_count": 11,
   "metadata": {},
   "outputs": [
    {
     "name": "stdout",
     "output_type": "stream",
     "text": [
      "2019 - обычный год\n",
      "Конец программы\n"
     ]
    }
   ],
   "source": [
    "# Задача 2 (2)\n",
    "year = 2019\n",
    "if year % 4 != 0:\n",
    "    print (year, '- обычный год')\n",
    "elif year % 100 != 0:\n",
    "    print (year, '- високосный год')\n",
    "elif year % 400 == 0:\n",
    "        print (year, '- високосный год')\n",
    "elif year % 400 != 0:\n",
    "        print (year, '- обычный год')\n",
    "else: \n",
    "    print (year, '- обычный год')\n",
    "print ('Конец программы')"
   ]
  },
  {
   "cell_type": "code",
   "execution_count": 13,
   "metadata": {},
   "outputs": [
    {
     "name": "stdout",
     "output_type": "stream",
     "text": [
      "Введите день: 18\n",
      "Введите месяц: Август\n",
      "Лев\n",
      "Конец программы\n"
     ]
    }
   ],
   "source": [
    "# Задача 3\n",
    "day = int(input('Введите день: '))\n",
    "month = str(input('Введите месяц: '))\n",
    "if (day>=21 and day<=31 and month== 'Март') or ( month == 'Апрель' and day>=1 and day<=20):\n",
    "    print ('Овен')\n",
    "elif (day>=21 and day<=30 and month== 'Апрель') or ( month == 'Май' and day>=1 and day<=21):\n",
    "    print ('Телец')\n",
    "elif (day>=22 and day<=31 and month== 'Май') or ( month == 'Июнь' and day>=1 and day<=21):\n",
    "    print ('Близнецы')\n",
    "elif (day>=22 and day<=30 and month== 'Июнь') or ( month == 'Июль' and day>=1 and day<=22):\n",
    "    print ('Рак')\n",
    "elif (day>=23 and day<=31 and month== 'Июль') or ( month == 'Август' and day>=1 and day<=23):\n",
    "    print ('Лев')\n",
    "elif (day>=24 and day<=31 and month== 'Август') or ( month == 'Сентябрь' and day>=1 and day<=22):\n",
    "    print ('Дева')\n",
    "elif (day>=23 and day<=30 and month== 'Сентябрь') or ( month == 'Октябрь' and day>=1 and day<=22):\n",
    "    print ('Весы')\n",
    "elif (day>=23 and day<=31 and month== 'Октябрь') or ( month == 'Ноябрь' and day>=1 and day<=22):\n",
    "    print ('Скорпион')\n",
    "elif (day>=23 and day<=30 and month== 'Ноябрь') or ( month == 'Декабрь' and day>=1 and day<=21):\n",
    "    print ('Стрелец')\n",
    "elif (day>=22 and day<=31 and month== 'Декабрь') or ( month == 'Январь' and day>=1 and day<=20):\n",
    "    print ('Козерог')\n",
    "elif (day>=21 and day<=31 and month== 'Январь') or ( month == 'Февраль' and day>=1 and day<=19):\n",
    "    print ('Водолей')\n",
    "elif (day>=20 and day<=29 and month== 'Февраль') or ( month == 'Март' and day>=1 and day<=20):\n",
    "    print ('Рыбы')\n",
    "print ('Конец программы')"
   ]
  },
  {
   "cell_type": "code",
   "execution_count": 14,
   "metadata": {},
   "outputs": [
    {
     "name": "stdout",
     "output_type": "stream",
     "text": [
      "Упаковка для лыж\n",
      "Конец программы\n"
     ]
    }
   ],
   "source": [
    "# Задача 4\n",
    "width = 10\n",
    "length = 205\n",
    "height = 5\n",
    "if width < 15 and length < 15 and height < 15 :\n",
    "    print ('Коробка №1')\n",
    "elif length > 200:\n",
    "    print ('Упаковка для лыж')\n",
    "elif (width > 15 or length > 15 or height > 15) and (width < 50 or length < 50 or height < 50):\n",
    "    print ('Коробка №2')\n",
    "else:\n",
    "    print ('Стандартная упаковка')\n",
    "print ('Конец программы')"
   ]
  },
  {
   "cell_type": "code",
   "execution_count": 16,
   "metadata": {},
   "outputs": [
    {
     "name": "stdout",
     "output_type": "stream",
     "text": [
      "Введите номер билета из 6 цифр: 456654\n",
      "Счастливый билет\n",
      "Конец программы\n"
     ]
    }
   ],
   "source": [
    "# Задача 5\n",
    "ticket = int(input(\"Введите номер билета из 6 цифр: \"))\n",
    "six = ticket % 10\n",
    "five = (ticket // 10) % 10\n",
    "four = (((ticket//10))//10)%10\n",
    "three = ((((ticket//10))//10))//10%10\n",
    "two = (((((ticket//10))//10))//10)//10%10\n",
    "one = ((((((ticket//10))//10))//10)//10)//10%10\n",
    "sumone = (one + two + three)\n",
    "sumtwo = (four + five + six)\n",
    "\n",
    "if sumone == sumtwo:\n",
    "    print ('Счастливый билет')\n",
    "else:\n",
    "    print ('Несчастливый билет')\n",
    "print ('Конец программы')"
   ]
  },
  {
   "cell_type": "code",
   "execution_count": 30,
   "metadata": {},
   "outputs": [
    {
     "name": "stdout",
     "output_type": "stream",
     "text": [
      "Введите тип фигуры:Треугольник\n",
      "Введите длину стороны A: 2\n",
      "Введите длину стороны B: 2\n",
      "Введите длину стороны C: 3\n",
      "1.96875\n",
      "Конец программы\n"
     ]
    }
   ],
   "source": [
    "# Задача 6 (способ 1)\n",
    "figure = str(input('Введите тип фигуры:'))\n",
    "if figure == 'Круг':\n",
    "    radius = int(input('Радиус круга: '))\n",
    "    import math\n",
    "    print ((radius**2)*math.pi)\n",
    "elif figure == 'Треугольник':\n",
    "    a = int(input('Введите длину стороны A: '))\n",
    "    b = int(input('Введите длину стороны B: '))\n",
    "    c = int(input('Введите длину стороны C: '))\n",
    "    p = (a+b+c)/2 # Полупериметр для нахождения площади треугольника по формуле Герона\n",
    "    print ((p*(p-a)*(p-b)*(p-c))**1/2)\n",
    "elif figure == 'Прямоугольник':\n",
    "    a = int(input('Введите длину стороны A: '))\n",
    "    b = int(input('Введите длину стороны B: '))\n",
    "    print (a*b)\n",
    "print ('Конец программы')"
   ]
  },
  {
   "cell_type": "code",
   "execution_count": 33,
   "metadata": {},
   "outputs": [
    {
     "name": "stdout",
     "output_type": "stream",
     "text": [
      "Введите тип фигуры:Треугольник\n",
      "Введите длину стороны A: 2\n",
      "Введите длину стороны B: 2\n",
      "Введите длину стороны C: 3\n",
      "1.984313483298443\n",
      "Конец программы\n"
     ]
    }
   ],
   "source": [
    "# Задача 6 (способ 2)\n",
    "figure = str(input('Введите тип фигуры:'))\n",
    "if figure == 'Круг':\n",
    "    radius = int(input('Радиус круга: '))\n",
    "    import math\n",
    "    print ((radius**2)*math.pi)\n",
    "elif figure == 'Треугольник':\n",
    "    a = int(input('Введите длину стороны A: '))\n",
    "    b = int(input('Введите длину стороны B: '))\n",
    "    c = int(input('Введите длину стороны C: '))\n",
    "    ha = (c**2-(((a**2 - b**2 + c**2)/(2*a))**2))**(1/2) # Высота, проведенная к стороне а\n",
    "    print ((1/2)*a*ha)\n",
    "elif figure == 'Прямоугольник':\n",
    "    a = int(input('Введите длину стороны A: '))\n",
    "    b = int(input('Введите длину стороны B: '))\n",
    "    print (a*b)\n",
    "print ('Конец программы')"
   ]
  },
  {
   "cell_type": "code",
   "execution_count": null,
   "metadata": {},
   "outputs": [],
   "source": []
  }
 ],
 "metadata": {
  "kernelspec": {
   "display_name": "Python 3",
   "language": "python",
   "name": "python3"
  },
  "language_info": {
   "codemirror_mode": {
    "name": "ipython",
    "version": 3
   },
   "file_extension": ".py",
   "mimetype": "text/x-python",
   "name": "python",
   "nbconvert_exporter": "python",
   "pygments_lexer": "ipython3",
   "version": "3.8.3"
  }
 },
 "nbformat": 4,
 "nbformat_minor": 4
}
