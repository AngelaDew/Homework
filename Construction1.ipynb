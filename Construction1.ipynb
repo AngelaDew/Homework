{
 "cells": [
  {
   "cell_type": "code",
   "execution_count": 1,
   "metadata": {},
   "outputs": [
    {
     "name": "stdout",
     "output_type": "stream",
     "text": [
      "Введите слово латинскими буквами: test\n",
      "es\n"
     ]
    }
   ],
   "source": [
    "# Задача 1 \n",
    "a = input('Введите слово латинскими буквами: ')\n",
    "b = len(a)\n",
    "if b%2 == 0:\n",
    "    c=a[(b//2-1):(b//2+1)]\n",
    "    print (c)\n",
    "else:\n",
    "    c=a[(b//2)]\n",
    "    print (c)\n",
    "\n"
   ]
  },
  {
   "cell_type": "code",
   "execution_count": 3,
   "metadata": {},
   "outputs": [
    {
     "name": "stdout",
     "output_type": "stream",
     "text": [
      "1\n",
      "4\n",
      "6\n",
      "0\n",
      "11\n"
     ]
    }
   ],
   "source": [
    "# Задача 2\n",
    "s = 0\n",
    "while True:\n",
    "    a = int(input())\n",
    "    s += a\n",
    "    if a == 0:\n",
    "        break\n",
    "print(s)"
   ]
  },
  {
   "cell_type": "code",
   "execution_count": 4,
   "metadata": {},
   "outputs": [
    {
     "name": "stdout",
     "output_type": "stream",
     "text": [
      "Alex и Emma\n",
      "Arthur и Kate\n",
      "John и Kira\n",
      "Peter и Liza\n",
      "Richard и Trisha\n"
     ]
    }
   ],
   "source": [
    "# Задача 3\n",
    "boys = ['Peter', 'Alex', 'John', 'Arthur', 'Richard']\n",
    "girls = ['Kate', 'Liza', 'Kira', 'Emma', 'Trisha']\n",
    "if len(boys) == len(girls):\n",
    "    for boy, girl in zip(sorted(boys), sorted(girls)):\n",
    "        print(f'{boy} и {girl}')\n",
    "else:\n",
    "    print('Внимание, кто-то может остаться без пары!')"
   ]
  },
  {
   "cell_type": "code",
   "execution_count": 5,
   "metadata": {},
   "outputs": [
    {
     "name": "stdout",
     "output_type": "stream",
     "text": [
      "Внимание, кто-то может остаться без пары!\n"
     ]
    }
   ],
   "source": [
    "# Задача 3\n",
    "boys = ['Peter', 'Alex', 'John', 'Arthur', 'Richard', 'Michael']\n",
    "girls = ['Kate', 'Liza', 'Kira', 'Emma', 'Trisha']\n",
    "if len(boys) == len(girls):\n",
    "    for boy, girl in zip(sorted(boys), sorted(girls)):\n",
    "        print(f'{boy} и {girl}')\n",
    "else:\n",
    "    print('Внимание, кто-то может остаться без пары!')"
   ]
  },
  {
   "cell_type": "code",
   "execution_count": 6,
   "metadata": {
    "scrolled": true
   },
   "outputs": [
    {
     "name": "stdout",
     "output_type": "stream",
     "text": [
      "Thailand - 23.9 С\n",
      "Germany - 13.8 С\n",
      "Russia - 3.7 С\n",
      "Poland - 12.0 С\n"
     ]
    }
   ],
   "source": [
    "# Задача 4\n",
    "import statistics\n",
    "\n",
    "countries_temperature = [\n",
    "['Thailand', [75.2, 77, 78.8, 73.4, 68, 75.2, 77]],\n",
    "['Germany', [57.2, 55.4, 59, 59, 53.6]],\n",
    "['Russia', [35.6, 37.4, 39.2, 41, 42.8, 39.2, 35.6]],\n",
    "['Poland', [50, 50, 53.6, 57.2, 55.4, 55.4]]\n",
    "]\n",
    "for i in countries_temperature:\n",
    "    print(f'{i[0]} - {round((((statistics.mean(i[1]))-32)/1.8), 1)} С') # Перевод градусов осуществляется \n",
    "# по формуле: C = (F - 32)/1,8"
   ]
  },
  {
   "cell_type": "code",
   "execution_count": 7,
   "metadata": {
    "scrolled": true
   },
   "outputs": [
    {
     "name": "stdout",
     "output_type": "stream",
     "text": [
      "Среднее количество просмотров на уникального пользователя:  23.25\n"
     ]
    }
   ],
   "source": [
    "# Задача 5(1)\n",
    "stream = [\n",
    "'2018-01-01,user1,3',\n",
    "'2018-01-07,user1,4',\n",
    "'2018-03-29,user1,1',\n",
    "'2018-04-04,user1,13',\n",
    "'2018-01-05,user2,7',\n",
    "'2018-06-14,user3,4',\n",
    "'2018-07-02,user3,10',\n",
    "'2018-03-21,user4,19',\n",
    "'2018-03-22,user4,4',\n",
    "'2018-04-22,user4,8',\n",
    "'2018-05-03,user4,9',\n",
    "'2018-05-11,user4,11']\n",
    "\n",
    "new_stream = [] # преобразованный исходный список\n",
    "views = [] # общий список просмотров всех пользователей\n",
    "users = [] # общий список всех пользователей\n",
    "unique_users = [] # уникальный список пользователей\n",
    "\n",
    "for i in stream: # преобразование исходного списка в удобный формат, преобразование числа просмотров из str в int\n",
    "    x = i.split(',')\n",
    "    x[2]=int(x[2])\n",
    "    new_stream.append(x[1:]) \n",
    "\n",
    "for n in new_stream:         # создание двух списков: общего списка просмотров всех пользователей и \n",
    "    a = new_stream.index(n)  # общего списка пользователей для того, чтобы затем получить\n",
    "    for i in n:              #сумму всех просмотров всех пользователей и число уникальных пользователей\n",
    "        b = n.index(i)\n",
    "        if b == 1:\n",
    "            views.append(new_stream[a][b]) \n",
    "        elif b == 0:\n",
    "            users.append(new_stream[a][b]) \n",
    "\n",
    "s = sum(views) # сумма всех просмотров всех пользователей \n",
    "    \n",
    "for name_number in users:\n",
    "    if name_number not in unique_users:\n",
    "        unique_users.append(name_number) # уникальный список пользователей\n",
    "        \n",
    "l = len(unique_users) # число уникальных пользователей\n",
    "average = s/l # среднее количество просмотров на уникального пользователя\n",
    "r = round(average, 2) # округление полученного результата до второго знака после запятой\n",
    "print('Среднее количество просмотров на уникального пользователя: ',r)\n",
    "\n"
   ]
  },
  {
   "cell_type": "code",
   "execution_count": 8,
   "metadata": {
    "scrolled": true
   },
   "outputs": [
    {
     "name": "stdout",
     "output_type": "stream",
     "text": [
      "Среднее количество просмотров на уникального пользователя:  145.33\n"
     ]
    }
   ],
   "source": [
    "# Задача 5(2)\n",
    "stream = [\n",
    "'2018-01-01,user100,150',\n",
    "'2018-01-07,user99,205',\n",
    "'2018-03-29,user1001,81']\n",
    "\n",
    "new_stream = [] # преобразованный исходный список\n",
    "views = [] # общий список просмотров всех пользователей\n",
    "users = [] # общий список всех пользователей\n",
    "unique_users = [] # уникальный список пользователей\n",
    "\n",
    "for i in stream: # преобразование исходного списка в удобный формат, преобразование числа просмотров из str в int\n",
    "    x = i.split(',')\n",
    "    x[2]=int(x[2])\n",
    "    new_stream.append(x[1:]) \n",
    "\n",
    "for n in new_stream:         # создание двух списков: общего списка просмотров всех пользователей и \n",
    "    a = new_stream.index(n)  # общего списка пользователей для того, чтобы затем получить\n",
    "    for i in n:              #сумму всех просмотров всех пользователей и число уникальных пользователей\n",
    "        b = n.index(i)\n",
    "        if b == 1:\n",
    "            views.append(new_stream[a][b]) \n",
    "        elif b == 0:\n",
    "            users.append(new_stream[a][b]) \n",
    "\n",
    "s = sum(views) # сумма всех просмотров всех пользователей \n",
    "    \n",
    "for name_number in users:\n",
    "    if name_number not in unique_users:\n",
    "        unique_users.append(name_number) # уникальный список пользователей\n",
    "        \n",
    "l = len(unique_users) # число уникальных пользователей\n",
    "average = s/l # среднее количество просмотров на уникального пользователя\n",
    "r = round(average, 2) # округление полученного результата до второго знака после запятой\n",
    "print('Среднее количество просмотров на уникального пользователя: ',r)\n"
   ]
  },
  {
   "cell_type": "code",
   "execution_count": 18,
   "metadata": {},
   "outputs": [
    {
     "name": "stdout",
     "output_type": "stream",
     "text": [
      "Введите числа: 1 1 1 1 1 2 2 2 \n",
      "1 2 "
     ]
    }
   ],
   "source": [
    "# Задача 6\n",
    "numbers = [int(g) for g in input('Введите числа: ').split()]\n",
    "new_numbers = []\n",
    "new = []\n",
    "new_res = []\n",
    "\n",
    "for n in numbers:\n",
    "    if n not in new_numbers:\n",
    "        new_numbers.append(n)\n",
    "    else:\n",
    "        new.append(n)\n",
    "\n",
    "for i in new:\n",
    "    if i not in new_res:\n",
    "        new_res.append(i)\n",
    "\n",
    "for x in new_res: \n",
    "    print(x, end = ' ')"
   ]
  },
  {
   "cell_type": "code",
   "execution_count": null,
   "metadata": {},
   "outputs": [],
   "source": []
  },
  {
   "cell_type": "code",
   "execution_count": null,
   "metadata": {},
   "outputs": [],
   "source": []
  },
  {
   "cell_type": "code",
   "execution_count": null,
   "metadata": {},
   "outputs": [],
   "source": []
  },
  {
   "cell_type": "code",
   "execution_count": null,
   "metadata": {},
   "outputs": [],
   "source": []
  }
 ],
 "metadata": {
  "kernelspec": {
   "display_name": "Python 3",
   "language": "python",
   "name": "python3"
  },
  "language_info": {
   "codemirror_mode": {
    "name": "ipython",
    "version": 3
   },
   "file_extension": ".py",
   "mimetype": "text/x-python",
   "name": "python",
   "nbconvert_exporter": "python",
   "pygments_lexer": "ipython3",
   "version": "3.8.3"
  }
 },
 "nbformat": 4,
 "nbformat_minor": 4
}
